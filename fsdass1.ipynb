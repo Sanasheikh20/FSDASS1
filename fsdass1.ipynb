{
  "nbformat": 4,
  "nbformat_minor": 0,
  "metadata": {
    "colab": {
      "provenance": []
    },
    "kernelspec": {
      "name": "python3",
      "display_name": "Python 3"
    },
    "language_info": {
      "name": "python"
    }
  },
  "cells": [
    {
      "cell_type": "code",
      "execution_count": 1,
      "metadata": {
        "colab": {
          "base_uri": "https://localhost:8080/"
        },
        "id": "iNnPIheTdHGZ",
        "outputId": "9f75c32e-2b98-47b2-f3e3-0e1cf6921a8e"
      },
      "outputs": [
        {
          "output_type": "stream",
          "name": "stdout",
          "text": [
            "Input List =  [120, 20, 42, 212, 802, 139, 175, 802, 468]\n",
            "Maximum Value in the List =  468\n"
          ]
        }
      ],
      "source": [
        "def sum_digits(num):\n",
        "    sum = 0\n",
        "    while(num > 0):\n",
        "        rem = num % 10\n",
        "        sum = sum + rem\n",
        "        num = num // 10\n",
        "    return sum\n",
        "# Input --> list of positive integers\n",
        "inp = [120, 20, 42, 212, 802, 139, 175, 802, 468]\n",
        "print(\"Input List = \", inp)\n",
        "print(\"Maximum Value in the List = \", max(inp, key = sum_digits))"
      ]
    }
  ]
}